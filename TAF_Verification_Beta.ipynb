{
  "nbformat": 4,
  "nbformat_minor": 0,
  "metadata": {
    "colab": {
      "provenance": [],
      "include_colab_link": true
    },
    "kernelspec": {
      "name": "python3",
      "display_name": "Python 3"
    },
    "language_info": {
      "name": "python"
    }
  },
  "cells": [
    {
      "cell_type": "markdown",
      "metadata": {
        "id": "view-in-github",
        "colab_type": "text"
      },
      "source": [
        "<a href=\"https://colab.research.google.com/github/scottthomaswx/taf-verification/blob/main/TAF_Verification_Beta.ipynb\" target=\"_parent\"><img src=\"https://colab.research.google.com/assets/colab-badge.svg\" alt=\"Open In Colab\"/></a>"
      ]
    },
    {
      "cell_type": "markdown",
      "source": [
        "# **TAF Verification Plot Creation**\n",
        "\n",
        "### **v2.00** - Scott Thomas (scott.r.thomas@noaa.gov)\n",
        "\n",
        "### This program creates a plot showing forecast ceilings and visibility for a TAF Site (including PROB30s and TEMPO Groups) and compares it to observed ASOS Data.\n",
        "\n",
        "### Data Availability\n",
        "####January 1, 1996 to Present"
      ],
      "metadata": {
        "id": "uRMVM-wAB32I"
      }
    },
    {
      "cell_type": "markdown",
      "source": [
        "##**Load Needed Packages**\n",
        "\n",
        "###Click the play button below to install software to pull TAF and Observation Data, create the time range to pull the TAFs/Obs over, and create the plots. This should take 30-45 seconds."
      ],
      "metadata": {
        "id": "dNUDQB8J9SD7"
      }
    },
    {
      "cell_type": "code",
      "execution_count": 278,
      "metadata": {
        "id": "SW1GH6Ln5p7e",
        "cellView": "form"
      },
      "outputs": [],
      "source": [
        "# @title\n",
        "%%capture\n",
        "!pip install datetime\n",
        "!pip install pytz\n",
        "!pip install pandas\n",
        "!pip install matplotlib\n",
        "!pip install numpy\n",
        "!pip install re\n",
        "import pytz\n",
        "import os\n",
        "import sys\n",
        "import requests\n",
        "from datetime import timedelta\n",
        "import datetime as datetime\n",
        "from datetime import datetime\n",
        "import pandas as pd\n",
        "import matplotlib.pyplot as plt\n",
        "import numpy as np\n",
        "import warnings\n",
        "import re\n",
        "!rm -rf sample_data/"
      ]
    },
    {
      "cell_type": "markdown",
      "source": [
        "##**Enter TAF Start Time (UTC) and Airport ID**\n",
        "\n",
        "### Enter the 4 digit year, month, day, hour, and minute the TAF was issued (in UTC). Then click the play button to save your choice.\n",
        "\n",
        "### Note: The TAF Issuance Time is NOT the same as the TAF Valid Time. Routine issuances are issued between 20-40 minutes before the TAF valid time. Amendments are valid immediately. You can find the issuance time by looking up the issuing WFO and UTC date it was issued on here. https://mesonet.agron.iastate.edu/wx/afos/list.phtml"
      ],
      "metadata": {
        "id": "9IRRBovU9Taj"
      }
    },
    {
      "cell_type": "code",
      "source": [
        "year = '2024' #@param {type:\"string\"}\n",
        "month = '05' #@param {type:\"string\"}\n",
        "day = '07' #@param {type:\"string\"}\n",
        "hour = '22' #@param {type:\"string\"}\n",
        "minute = '16' #@param {type:\"string\"}\n",
        "airport = 'KAZO' #@param {type:\"string\"}\n",
        "\n",
        "timezone = 'UTC'\n",
        "tz = pytz.timezone(timezone)\n",
        "start = tz.localize(datetime(int(year),int(month),int(day),int(hour),int(minute)))\n",
        "\n",
        "Extended_Taf_List = ['KAUS', 'KATL', 'KBDL', 'KBOS', 'KBWI', 'KBZN', 'KCLE', 'KCLT', 'KCVG', 'KDCA', 'KDEN', 'KDFW', 'KDTW', 'KEWR', 'KFLL', 'KIAD', 'KIAH', 'KIND',\n",
        "                     'KJFK', 'KLAS', 'KLAX', 'KLGA', 'KMCO', 'KMDW', 'KMEM', 'KMIA', 'KMKE', 'KMSP', 'KMSY', 'KOAK', 'KONT', 'KORD', 'KPHL', 'KPHX', 'KPIT', 'KSAN',\n",
        "                     'KSDF', 'KSEA', 'KSFO', 'KSLC', 'KSTL', 'KSWF', 'KSAT', 'KTPA', 'KTEB', 'PANC', 'PAFA', 'PGUM', 'PHNL']\n",
        "\n",
        "if airport in Extended_Taf_List:\n",
        "  end_time = start + timedelta(hours=31)\n",
        "  end_year = end_time.strftime('%Y')\n",
        "  end_month = end_time.strftime('%m')\n",
        "  end_day = end_time.strftime('%d')\n",
        "  end_hour = end_time.strftime('%H')\n",
        "  end_minute = end_time.strftime('%M')\n",
        "else:\n",
        "  end_time = start + timedelta(hours=25)\n",
        "  end_year = end_time.strftime('%Y')\n",
        "  end_month = end_time.strftime('%m')\n",
        "  end_day = end_time.strftime('%d')\n",
        "  end_hour = end_time.strftime('%H')\n",
        "  end_minute = end_time.strftime('%M')\n",
        "\n",
        "start_time = start - timedelta(hours=1)\n",
        "start_hour = start_time.strftime('%H')\n",
        "start_day = start_time.strftime('%d')\n",
        "start_month = start_time.strftime('%m')\n",
        "start_year = start_time.strftime('%Y')\n",
        "start_minute = start_time.strftime('%M')"
      ],
      "metadata": {
        "cellView": "form",
        "id": "46wUQkz_JTp1"
      },
      "execution_count": 330,
      "outputs": []
    },
    {
      "cell_type": "markdown",
      "source": [
        "##**Get Observations For TAF Period**\n",
        "\n",
        "###Click the play button to pull the observations for your requested time window. If you encounter an error, ceiling and/or visibility data is unavailable for the time period you requested."
      ],
      "metadata": {
        "id": "HzuRYkVxM4zm"
      }
    },
    {
      "cell_type": "code",
      "source": [
        "# @title\n",
        "try:\n",
        "  obs_url = f'https://mesonet.agron.iastate.edu/cgi-bin/request/asos.py?&station={airport}&sts={start_year}-{start_month}-{start_day}T{start_hour}:00Z&ets={end_year}-{end_month}-{end_day}T{end_hour}:01Z&fmt=csv&data=vsby,skyc1,skyc2,skyc3,skyc4,skyl1,skyl2,skyl3,skyl4'\n",
        "  obs_df = pd.read_csv(obs_url, sep=\",\")\n",
        "\n",
        "  obs_df['adj_visby'] = \"\"\n",
        "\n",
        "  for v in range(len(obs_df['vsby'])):\n",
        "    if obs_df.vsby[v] == 'M':\n",
        "      obs_df.loc[v, 'adj_visby'] = np.nan\n",
        "    elif float(obs_df.vsby[v]) > 6.0:\n",
        "     obs_df.loc[v, 'adj_visby'] = 7.0\n",
        "    else:\n",
        "      obs_df.loc[v, 'adj_visby'] = obs_df.vsby[v]\n",
        "\n",
        "  for c in range(len(obs_df['skyc1'])):\n",
        "    if obs_df.skyc1[c] == 'BKN' or obs_df.skyc1[c] == 'OVC':\n",
        "      obs_df.loc[c, 'adj_cigs'] = float(obs_df.skyl1[c])\n",
        "    elif obs_df.skyc1[c] == 'CLR':\n",
        "      obs_df.loc[c, 'adj_cigs'] = 7000\n",
        "    elif obs_df.skyc1[c] == 'FEW' or obs_df.skyc1[c] == 'SCT':\n",
        "      if obs_df.skyc2[c] == 'BKN' or obs_df.skyc2[c] == 'OVC':\n",
        "        obs_df.loc[c, 'adj_cigs'] = float(obs_df.skyl2[c])\n",
        "      elif obs_df.skyc2[c] != 'BKN' and obs_df.skyc2[c] != 'OVC':\n",
        "        if obs_df.skyc3[c] == 'BKN' or obs_df.skyc3[c] == 'OVC':\n",
        "          obs_df.loc[c, 'adj_cigs'] = float(obs_df.skyl3[c])\n",
        "        elif obs_df.skyc3[c] != 'BKN' and obs_df.skyc3[c] != 'OVC':\n",
        "          if obs_df.skyc4[c] == 'BKN' or obs_df.skyc4[c] == 'OVC':\n",
        "            obs_df.loc[c, 'adj_cigs'] = float(obs_df.skyl4[c])\n",
        "          else:\n",
        "            obs_df.loc[c, 'adj_cigs'] = 7000\n",
        "    elif obs_df.skyc1[c] == 'M':\n",
        "      obs_df.loc[c, 'adj_cigs'] = np.nan\n",
        "\n",
        "  for ch in range(len(obs_df.adj_cigs)):\n",
        "    if isinstance(obs_df.adj_cigs[ch], float):\n",
        "      if obs_df.adj_cigs[ch] > 7000:\n",
        "        obs_df.loc[ch, 'adj_cigs'] = 7000\n",
        "\n",
        "  for a in range(len(obs_df['valid'])):\n",
        "\n",
        "    checktime =  datetime.strptime(obs_df['valid'][a], '%Y-%m-%d %H:%M')\n",
        "    checktime = tz.localize(checktime)\n",
        "    timediff = checktime - start\n",
        "    timediff = timediff.total_seconds()\n",
        "    hours = int(timediff // 3600)\n",
        "    remaining_secs = timediff % 3600\n",
        "    minutes = int(remaining_secs // 60) # Integer minutes\n",
        "    count = hours + (minutes/60)\n",
        "    obs_df.loc[a, \"hour\"] = count\n",
        "    obs_df.loc[0,'hour'] = 0\n",
        "\n",
        "except:\n",
        "  warnings.warn('Observations Unavailable For The Requested Period')"
      ],
      "metadata": {
        "cellView": "form",
        "id": "hdjHGx0RrS9K"
      },
      "execution_count": 331,
      "outputs": []
    },
    {
      "cell_type": "markdown",
      "source": [
        "##**Pull TAF**\n",
        "\n",
        "###Click the play button to pull the TAF issued at the time you requested. If there is an error, it means no TAF is available at the time requested. This can occur when a TAF is issued after the synoptic hour due to a delay.\n",
        "\n",
        "### **Data Source**\n",
        "####Iowa State TAF Archive"
      ],
      "metadata": {
        "id": "3L7xKPZeM8vW"
      }
    },
    {
      "cell_type": "code",
      "source": [
        "# @title\n",
        "try:\n",
        "  taf_url = f'https://mesonet.agron.iastate.edu/cgi-bin/request/taf.py?station={airport}&ets={year}-{month}-{day}T{hour}:{int(minute)+1:02d}Z&sts={year}-{month}-{day}T{hour}:{int(minute)-1:02d}Z&fmt=csv&last=1'\n",
        "  tafdf  = pd.read_csv(taf_url, sep=\",\")\n",
        "  tafdf = tafdf\n",
        "\n",
        "  for tafcigloop in range(len(tafdf['skyc'])):\n",
        "    checkcig = tafdf.skyc[tafcigloop]\n",
        "    checkcig_list = checkcig.split(',')\n",
        "    checkcig_list = re.sub(r'[^a-zA-Z ]', '', checkcig).split()\n",
        "\n",
        "    chgt = tafdf.skyl[tafcigloop]\n",
        "    chgt_list = chgt.split(',')\n",
        "    chgt_list = re.sub(r'[^0-9 ]', '', chgt).split()\n",
        "\n",
        "    if checkcig_list[0] == 'BKN' or checkcig_list[0] == 'OVC':\n",
        "        tafdf.loc[tafcigloop, 'cigs'] = float(chgt_list[0])\n",
        "    elif checkcig_list[0] == 'SKC':\n",
        "        tafdf.loc[tafcigloop, 'cigs'] = 7000\n",
        "    elif checkcig_list[0] == 'FEW' or checkcig_list[0] == 'SCT':\n",
        "        if checkcig_list[1] == 'BKN' or checkcig_list[1] == 'OVC':\n",
        "          tafdf.loc[tafcigloop, 'cigs'] = float(chgt_list[1])\n",
        "        else:\n",
        "          tafdf.loc[tafcigloop, 'cigs'] = 7000\n",
        "\n",
        "  for tafvisloop in range(len(tafdf['visibility'])):\n",
        "    checkvis = tafdf.visibility[tafvisloop]\n",
        "    if checkvis > 6.0:\n",
        "      tafdf.loc[tafvisloop, 'visby'] = 7.0\n",
        "    else:\n",
        "      tafdf.loc[tafvisloop, 'visby'] = checkvis\n",
        "\n",
        "  tafdf['adj_cigs'] = tafdf['cigs'].copy()\n",
        "\n",
        "  for st in range(len(tafdf['fx_valid'])):\n",
        "    groupstart = tafdf.fx_valid[st]\n",
        "    checktime =  datetime.strptime(groupstart, '%Y-%m-%d %H:%M')\n",
        "    checktime = tz.localize(checktime)\n",
        "    timediff = checktime - start\n",
        "    timediff = timediff.total_seconds()\n",
        "    hours = int(timediff // 3600)\n",
        "    remaining_secs = timediff % 3600\n",
        "    minutes = int(remaining_secs // 60) # Integer minutes\n",
        "    count = hours + (minutes/60)\n",
        "    tafdf.loc[st, \"starthour\"] = count\n",
        "    tafdf.loc[0,'starthour'] = 0\n",
        "\n",
        "  for et in range(len(tafdf['fx_valid_end'])):\n",
        "    groupend = tafdf.fx_valid_end[et]\n",
        "    if isinstance(groupend, str):\n",
        "      checktime =  datetime.strptime(groupend, '%Y-%m-%d %H:%M')\n",
        "      checktime = tz.localize(checktime)\n",
        "      timediff = checktime - start\n",
        "      timediff = timediff.total_seconds()\n",
        "      hours = int(timediff // 3600)\n",
        "      remaining_secs = timediff % 3600\n",
        "      minutes = int(remaining_secs // 60) # Integer minutes\n",
        "      count = hours + (minutes/60)\n",
        "      tafdf.loc[et, \"endhour\"] = count\n",
        "\n",
        "  fmgroup = tafdf.query('ftype == \"Observation\" or ftype == \"Forecast\"')\n",
        "  fmgroup = fmgroup.reset_index(drop=True)\n",
        "\n",
        "  tmpo = tafdf.query('ftype == \"Temporary\"')\n",
        "  tmpo = tmpo.reset_index(drop=True)\n",
        "\n",
        "  pb30 = tafdf.query('ftype == \"Probability\"')\n",
        "  pb30 = pb30.reset_index(drop=True)\n",
        "\n",
        "\n",
        "  if airport in Extended_Taf_List:\n",
        "      addlast = pd.DataFrame({'station': [(fmgroup.station.iloc[-1])], 'valid': [''], 'raw': [''], 'is_tempo': [False], 'sknt': [''], 'drct': [''], 'visibility': [fmgroup.visby.iloc[-1]], 'skyc': [fmgroup.skyc.iloc[-1]], 'skyl': [fmgroup.skyl.iloc[-1]], 'ws_level': [''],\n",
        "                              'ftype': ['Forecast'], 'cigs': [fmgroup.cigs.iloc[-1]], 'visby': [fmgroup.visby.iloc[-1]],'starthour': ['30'], 'endhour': ['30'], 'adj_cigs': [fmgroup.adj_cigs.iloc[-1]]})\n",
        "  elif airport not in Extended_Taf_List:\n",
        "      addlast = pd.DataFrame({'station': [(fmgroup.station.iloc[-1])], 'valid': [''], 'raw': [''], 'is_tempo': [False], 'sknt': [''], 'drct': [''], 'visibility': [fmgroup.visby.iloc[-1]], 'skyc': [fmgroup.skyc.iloc[-1]], 'skyl': [fmgroup.skyl.iloc[-1]], 'ws_level': [''],\n",
        "                              'ftype': ['Forecast'], 'cigs': [fmgroup.cigs.iloc[-1]], 'visby': [fmgroup.visby.iloc[-1]],'starthour': ['24'], 'endhour': ['24'], 'adj_cigs': [fmgroup.adj_cigs.iloc[-1]]})\n",
        "\n",
        "  fmgroup = pd.concat([fmgroup, addlast], ignore_index=True)\n",
        "\n",
        "except:\n",
        "  warnings.warn('TAF Unavailable For The Requested Period')"
      ],
      "metadata": {
        "id": "Ivq6ssrW6mn0",
        "cellView": "form",
        "outputId": "fb4b36c6-0968-47db-fb28-a154bcadfeca",
        "colab": {
          "base_uri": "https://localhost:8080/"
        }
      },
      "execution_count": 332,
      "outputs": [
        {
          "output_type": "stream",
          "name": "stderr",
          "text": [
            "/tmp/ipython-input-643733992.py:81: UserWarning: TAF Unavailable For The Requested Period\n",
            "  warnings.warn('TAF Unavailable For The Requested Period')\n"
          ]
        }
      ]
    },
    {
      "cell_type": "markdown",
      "source": [
        "##**Plot Data**\n",
        "\n",
        "### Click the play button to create the plot of Ceiling and Visibility Data. The image will save in the folder to the left."
      ],
      "metadata": {
        "id": "wTjCOwF2NGM9"
      }
    },
    {
      "cell_type": "code",
      "source": [
        "# @title\n",
        "fig = plt.figure(figsize=(10, 10), facecolor='white', edgecolor=\"black\", linewidth =6)\n",
        "\n",
        "ax1 = plt.subplot(2,1,1)\n",
        "ax1.set_title(f'{airport} Ceiling For TAF Issued {year}-{month}-{day} {hour}:{minute} UTC')\n",
        "ax1.axhline(y=3000, color='skyblue', linestyle='--')\n",
        "ax1.axhline(y=2000, color='blue', linestyle='--')\n",
        "ax1.axhline(y=1000, color='red', linestyle='--')\n",
        "ax1.axhline(y=500, color='hotpink', linestyle='--')\n",
        "ax1.axhline(y=200, color='purple', linestyle='--')\n",
        "\n",
        "fcstcig = ax1.step(fmgroup['starthour'], fmgroup['cigs'], color = 'green', label = 'Forecast Ceiling', linewidth = 5, zorder = 1)\n",
        "cigline = ax1.step(obs_df['hour'], obs_df['adj_cigs'], color = 'darkorange', label = 'Observed Ceiling', linewidth = 5, zorder=  2)\n",
        "\n",
        "\n",
        "for tm in range(len(tmpo['cigs'])):\n",
        "  if not np.isnan(tmpo.cigs[tm]):\n",
        "    ax1.scatter(tmpo.starthour[tm], tmpo.cigs[tm], color = 'black', marker = '^', zorder = 3, s = 100)\n",
        "    ax1.scatter(tmpo.endhour[tm], tmpo.cigs[tm], color = 'black', marker = '^', zorder = 3, s = 100)\n",
        "    x_coords = [tmpo.starthour[tm], tmpo.endhour[tm]]\n",
        "    y_coords = [tmpo.cigs[tm], tmpo.cigs[tm]]\n",
        "    ax1.plot(x_coords, y_coords, color = 'black', linewidth = 2, label = 'TEMPO', zorder = 3)\n",
        "for pr in range(len(pb30['cigs'])):\n",
        "  if not np.isnan(pb30.cigs[pr]):\n",
        "    ax1.scatter(pb30.starthour[pr], pb30.cigs[pr], color = 'maroon', marker = '^', zorder = 3, s = 100)\n",
        "    ax1.scatter(pb30.endhour[pr], pb30.cigs[pr], color = 'maroon', marker = '^', zorder = 3, s = 100)\n",
        "    x_coords = [pb30.starthour[pr], pb30.endhour[pr]]\n",
        "    y_coords = [pb30.cigs[pr], pb30.cigs[pr]]\n",
        "    ax1.plot(x_coords, y_coords, color = 'maroon', linewidth = 2, label = 'PROB30', zorder = 3)\n",
        "\n",
        "ax1.set_ylim(0,7100)\n",
        "ax1.set_ylabel('Ceiling Height (ft)')\n",
        "\n",
        "ax1.set_yticks([0,200, 500,1000,2000,3000,4000,5000,6000,7000])\n",
        "ax1.set_yticklabels(['0','200','500', '1000', '2000', '3000', '4000', '5000', '6000', '>6000'])\n",
        "\n",
        "ax1.set_xlabel('Hours Since TAF Began')\n",
        "ax1.legend(loc = 'upper right')\n",
        "\n",
        "if re.search('-AA', tafdf.product_id[0]) or re.search('-CC', tafdf.product_id[0]) or  re.search('-RR', tafdf.product_id[0]):\n",
        "  taf_start_box = datetime.strptime(tafdf.valid[0], '%Y-%m-%d %H:%M')\n",
        "  taf_start_hour = int(taf_start_box.strftime('%H'))\n",
        "  if taf_start_hour >= 0 and taf_start_hour < 6:\n",
        "    taf_end_hour = 24\n",
        "  if taf_start_hour >= 6 and taf_start_hour < 12:\n",
        "    taf_end_hour = 6\n",
        "  if taf_start_hour >= 12 and taf_start_hour < 18:\n",
        "    taf_end_hour = 12\n",
        "  if taf_start_hour >= 18 and taf_start_hour < 24:\n",
        "    taf_end_hour = 18\n",
        "\n",
        "  hours_left = taf_end_hour - taf_start_hour\n",
        "  if airport in Extended_Taf_List:\n",
        "    hours_left +=6\n",
        "  ax1.set_xlim(-0.1,(hours_left-0.5))\n",
        "  ax1.set_xticks(np.arange(0,(hours_left-0.5),1))\n",
        "\n",
        "else:\n",
        "  if airport in Extended_Taf_List:\n",
        "    ax1.set_xlim(-0.1,29.5)\n",
        "    ax1.set_xticks(np.arange(0,29.5,1))\n",
        "  elif airport not in Extended_Taf_List:\n",
        "    ax1.set_xlim(-0.1,23.5)\n",
        "    ax1.set_xticks(np.arange(0,23.5,1))\n",
        "\n",
        "ax2 = plt.subplot(2,1,2)\n",
        "ax2.set_title(f'{airport} Visibility  For TAF Issued {year}-{month}-{day} {hour}:{minute} UTC')\n",
        "ax2.axhline(y=5, color='skyblue', linestyle='--')\n",
        "ax2.axhline(y=3, color='red', linestyle='--')\n",
        "ax2.axhline(y=1, color='hotpink', linestyle='--')\n",
        "ax2.axhline(y=0.5, color='purple', linestyle='--')\n",
        "\n",
        "fcstvis = ax2.step(fmgroup['starthour'], fmgroup['visby'], color = 'green', label = 'Forecast Visibility', linewidth = 5, zorder = 1)\n",
        "visline = ax2.step(obs_df['hour'], obs_df['adj_visby'], color = 'darkorange', label = 'Observed Visibility', linewidth = 5, zorder = 2)\n",
        "\n",
        "for te in range(len(tmpo['visby'])):\n",
        "  if not np.isnan(tmpo.visby[te]):\n",
        "    ax2.scatter(tmpo.starthour[te], tmpo.visby[te], color = 'black', marker = '^', zorder = 3, s = 100)\n",
        "    ax2.scatter(tmpo.endhour[te], tmpo.visby[te], color = 'black', marker = '^', zorder = 3, s = 100)\n",
        "    x_coords = [tmpo.starthour[te], tmpo.endhour[te]]\n",
        "    y_coords = [tmpo.visby[te], tmpo.visby[te]]\n",
        "    ax2.plot(x_coords, y_coords, color = 'black', linewidth = 2, label = 'TEMPO', zorder = 3)\n",
        "for po in range(len(pb30['visby'])):\n",
        "  if not np.isnan(pb30.visby[po]):\n",
        "    ax2.scatter(pb30.starthour[po], pb30.visby[po], color = 'maroon', marker = '^', zorder = 3, s = 100)\n",
        "    ax2.scatter(pb30.endhour[po], pb30.visby[po], color = 'maroon', marker = '^', zorder = 3, s = 100)\n",
        "    x_coords = [pb30.starthour[po], pb30.endhour[po]]\n",
        "    y_coords = [pb30.visby[po], pb30.visby[po]]\n",
        "    ax2.plot(x_coords, y_coords, color = 'maroon', linewidth = 2, label = 'PROB30', zorder = 3)\n",
        "\n",
        "ax2.legend(loc = 'upper right')\n",
        "ax2.set_xlabel('Hours Since TAF Began')\n",
        "ax2.set_ylabel('Visibility (miles)')\n",
        "ax2.set_ylim(0,7.5)\n",
        "ax2.set_yticks([0,0.5,1,2,3,4,5,6,7])\n",
        "ax2.set_yticklabels(['0','0.5','1','2','3','4','5','6','>6'])\n",
        "\n",
        "if re.search('-AA', tafdf.product_id[0]) or re.search('-CC', tafdf.product_id[0]) or  re.search('-RR', tafdf.product_id[0]):\n",
        "  taf_start_box = datetime.strptime(tafdf.valid[0], '%Y-%m-%d %H:%M')\n",
        "  taf_start_hour = int(taf_start_box.strftime('%H'))\n",
        "  if taf_start_hour >= 0 and taf_start_hour < 6:\n",
        "    taf_end_hour = 24\n",
        "  if taf_start_hour >= 6 and taf_start_hour < 12:\n",
        "    taf_end_hour = 6\n",
        "  if taf_start_hour >= 12 and taf_start_hour < 18:\n",
        "    taf_end_hour = 12\n",
        "  if taf_start_hour >= 18 and taf_start_hour < 24:\n",
        "    taf_end_hour = 18\n",
        "\n",
        "  hours_left = taf_end_hour - taf_start_hour\n",
        "  if airport in Extended_Taf_List:\n",
        "    hours_left +=6\n",
        "  ax2.set_xlim(-0.1,(hours_left-0.5))\n",
        "  ax2.set_xticks(np.arange(0,(hours_left-0.5),1))\n",
        "\n",
        "else:\n",
        "  if airport in Extended_Taf_List:\n",
        "    ax2.set_xlim(-0.1,29.5)\n",
        "    ax2.set_xticks(np.arange(0,29.5,1))\n",
        "  elif airport not in Extended_Taf_List:\n",
        "    ax2.set_xlim(-0.1,23.5)\n",
        "    ax2.set_xticks(np.arange(0,23.5,1))\n",
        "\n",
        "\n",
        "plt.subplots_adjust(hspace=0.25)\n",
        "plt.savefig(f'TAFVerification_{airport}_{year}{month}{day}{hour}.png', bbox_inches = 'tight')"
      ],
      "metadata": {
        "cellView": "form",
        "id": "55ZFfuLjkP82",
        "outputId": "65631fe1-b318-4a78-b3bd-c2f5f71d322e",
        "colab": {
          "base_uri": "https://localhost:8080/",
          "height": 848
        }
      },
      "execution_count": 333,
      "outputs": [
        {
          "output_type": "display_data",
          "data": {
            "text/plain": [
              "<Figure size 1000x1000 with 2 Axes>"
            ],
            "image/png": "[encoded data removed]"
          },
          "metadata": {}
        }
      ]
    },
    {
      "cell_type": "markdown",
      "source": [
        "## **Zip All Files For Download**\n",
        "\n",
        "### Zips all .png files to make downloading multiple files easier"
      ],
      "metadata": {
        "id": "P3r62b1DG4iY"
      }
    },
    {
      "cell_type": "code",
      "source": [
        "!zip -r /content/TAF_Verif.zip /content/*.png"
      ],
      "metadata": {
        "id": "tSYQnjBOHfGj"
      },
      "execution_count": null,
      "outputs": []
    },
    {
      "cell_type": "markdown",
      "source": [
        "## **Remove All Files In Folder To Left**\n",
        "\n",
        "### Removes all ZIP and PNG files in content folder to left. Useful if you have made a large number of plots."
      ],
      "metadata": {
        "id": "ndQbexKUJG03"
      }
    },
    {
      "cell_type": "code",
      "source": [
        "!rm /content/*.png\n",
        "!rm /content/*.zip"
      ],
      "metadata": {
        "id": "lUS8WjObrjBx",
        "colab": {
          "base_uri": "https://localhost:8080/"
        },
        "outputId": "bf11106d-724b-48d4-d03a-77bd74a20365"
      },
      "execution_count": null,
      "outputs": [
        {
          "output_type": "stream",
          "name": "stdout",
          "text": [
            "rm: cannot remove '/content/*.zip': No such file or directory\n"
          ]
        }
      ]
    }
  ]
}